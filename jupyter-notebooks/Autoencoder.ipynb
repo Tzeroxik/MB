{
 "cells": [
  {
   "cell_type": "code",
   "execution_count": 5,
   "metadata": {},
   "outputs": [],
   "source": [
    "include(\"../src/Autoencoder.jl\")\n",
    "using Flux.Data.MNIST\n",
    "using Base.Iterators: partition\n",
    "using Juno: @progress"
   ]
  },
  {
   "cell_type": "code",
   "execution_count": 9,
   "metadata": {},
   "outputs": [],
   "source": [
    "#Data and parameters preparation\n",
    "imgs = MNIST.images();\n",
    "\n",
    "# Partition into batches of size 1000\n",
    "data = [float(hcat(vec.(imgs)...)) for imgs in partition(imgs, 1000)];\n",
    "N = 32; # Size of the encoding"
   ]
  },
  {
   "cell_type": "code",
   "execution_count": 7,
   "metadata": {},
   "outputs": [
    {
     "name": "stderr",
     "output_type": "stream",
     "text": [
      "┌ Info: Epoch 1\n",
      "└ @ Main /home/jrun/.julia/packages/Flux/oN61x/src/optimise/train.jl:93\n"
     ]
    },
    {
     "ename": "DimensionMismatch",
     "evalue": "DimensionMismatch(\"A has dimensions (784,4096) but B has dimensions (784,4096)\")",
     "output_type": "error",
     "traceback": [
      "DimensionMismatch(\"A has dimensions (784,4096) but B has dimensions (784,4096)\")",
      "",
      "Stacktrace:",
      " [1] gemm_wrapper!(::Array{Float64,2}, ::Char, ::Char, ::Array{Float64,2}, ::Array{Float64,2}) at /buildworker/worker/package_linux64/build/usr/share/julia/stdlib/v1.0/LinearAlgebra/src/matmul.jl:439",
      " [2] mul! at /buildworker/worker/package_linux64/build/usr/share/julia/stdlib/v1.0/LinearAlgebra/src/matmul.jl:144 [inlined]",
      " [3] * at /buildworker/worker/package_linux64/build/usr/share/julia/stdlib/v1.0/LinearAlgebra/src/matmul.jl:142 [inlined]",
      " [4] _forward at /home/jrun/.julia/packages/Flux/oN61x/src/tracker/array.jl:327 [inlined]",
      " [5] #track#1 at /home/jrun/.julia/packages/Flux/oN61x/src/tracker/Tracker.jl:50 [inlined]",
      " [6] track at /home/jrun/.julia/packages/Flux/oN61x/src/tracker/Tracker.jl:50 [inlined]",
      " [7] * at /home/jrun/.julia/packages/Flux/oN61x/src/tracker/array.jl:315 [inlined]",
      " [8] Dense at /home/jrun/.julia/packages/Flux/oN61x/src/layers/basic.jl:80 [inlined]",
      " [9] (::getfield(Flux, Symbol(\"##60#61\")))(::Array{Float64,2}, ::Dense{typeof(leakyrelu),TrackedArray{…,Array{Float64,2}},TrackedArray{…,Array{Float64,1}}}) at /home/jrun/.julia/packages/Flux/oN61x/src/layers/basic.jl:31",
      " [10] mapfoldl_impl(::typeof(identity), ::getfield(Flux, Symbol(\"##60#61\")), ::NamedTuple{(:init,),Tuple{Array{Float64,2}}}, ::Array{Any,1}) at ./reduce.jl:43",
      " [11] #mapfoldl#170 at ./reduce.jl:70 [inlined]",
      " [12] #mapfoldl at ./none:0 [inlined]",
      " [13] #foldl#171 at ./reduce.jl:88 [inlined]",
      " [14] #foldl at ./none:0 [inlined]",
      " [15] (::Chain)(::Array{Float64,2}) at /home/jrun/.julia/packages/Flux/oN61x/src/layers/basic.jl:31",
      " [16] (::getfield(Main, Symbol(\"#loss#17\")){AutoEncoder})(::Array{Float64,2}) at /mnt/juliabox/MB/src/Autoencoder.jl:19",
      " [17] macro expansion at /home/jrun/.julia/packages/Flux/oN61x/src/optimise/train.jl:60 [inlined]",
      " [18] macro expansion at /home/jrun/.julia/packages/Juno/46C8i/src/progress.jl:133 [inlined]",
      " [19] #train!#121(::getfield(Flux, Symbol(\"#throttled#18\")){getfield(Flux, Symbol(\"##throttled#10#14\")){Bool,Bool,getfield(Main, Symbol(\"##15#18\")){Array{Array{Float64,2},1},getfield(Main, Symbol(\"#loss#17\")){AutoEncoder}},Int64}}, ::Function, ::Function, ::Base.Iterators.Zip1{Array{Array{Float64,2},1}}, ::getfield(Flux.Optimise, Symbol(\"##43#47\"))) at /home/jrun/.julia/packages/Flux/oN61x/src/optimise/train.jl:58",
      " [20] macro expansion at ./none:0 [inlined]",
      " [21] macro expansion at /home/jrun/.julia/packages/Juno/46C8i/src/progress.jl:133 [inlined]",
      " [22] train(::AutoEncoder, ::Array{Array{Float64,2},1}, ::Int64) at /mnt/juliabox/MB/src/Autoencoder.jl:23",
      " [23] top-level scope at In[7]:2"
     ]
    }
   ],
   "source": [
    "autoencoder = AutoEncoder(28^2,N)\n",
    "train(autoencoder,data,10)"
   ]
  },
  {
   "cell_type": "code",
   "execution_count": 8,
   "metadata": {},
   "outputs": [
    {
     "ename": "DimensionMismatch",
     "evalue": "DimensionMismatch(\"second dimension of A, 4096, does not match length of x, 784\")",
     "output_type": "error",
     "traceback": [
      "DimensionMismatch(\"second dimension of A, 4096, does not match length of x, 784\")",
      "",
      "Stacktrace:",
      " [1] gemv!(::Array{Float64,1}, ::Char, ::Array{Float64,2}, ::Array{Float64,1}) at /buildworker/worker/package_linux64/build/usr/share/julia/stdlib/v1.0/LinearAlgebra/src/matmul.jl:349",
      " [2] mul! at /buildworker/worker/package_linux64/build/usr/share/julia/stdlib/v1.0/LinearAlgebra/src/matmul.jl:64 [inlined]",
      " [3] * at /buildworker/worker/package_linux64/build/usr/share/julia/stdlib/v1.0/LinearAlgebra/src/matmul.jl:46 [inlined]",
      " [4] _forward at /home/jrun/.julia/packages/Flux/oN61x/src/tracker/array.jl:327 [inlined]",
      " [5] #track#1 at /home/jrun/.julia/packages/Flux/oN61x/src/tracker/Tracker.jl:50 [inlined]",
      " [6] track at /home/jrun/.julia/packages/Flux/oN61x/src/tracker/Tracker.jl:50 [inlined]",
      " [7] * at /home/jrun/.julia/packages/Flux/oN61x/src/tracker/array.jl:319 [inlined]",
      " [8] Dense at /home/jrun/.julia/packages/Flux/oN61x/src/layers/basic.jl:80 [inlined]",
      " [9] (::getfield(Flux, Symbol(\"##60#61\")))(::Array{Float64,1}, ::Dense{typeof(leakyrelu),TrackedArray{…,Array{Float64,2}},TrackedArray{…,Array{Float64,1}}}) at /home/jrun/.julia/packages/Flux/oN61x/src/layers/basic.jl:31",
      " [10] mapfoldl_impl(::typeof(identity), ::getfield(Flux, Symbol(\"##60#61\")), ::NamedTuple{(:init,),Tuple{Array{Float64,1}}}, ::Array{Any,1}) at ./reduce.jl:43",
      " [11] #mapfoldl#170 at ./reduce.jl:70 [inlined]",
      " [12] #mapfoldl at ./none:0 [inlined]",
      " [13] #foldl#171 at ./reduce.jl:88 [inlined]",
      " [14] #foldl at ./none:0 [inlined]",
      " [15] (::Chain)(::Array{Float64,1}) at /home/jrun/.julia/packages/Flux/oN61x/src/layers/basic.jl:31",
      " [16] (::getfield(Main, Symbol(\"##24#26\")))(::Array{Gray{Normed{UInt8,8}},2}) at ./In[8]:10",
      " [17] iterate at ./generator.jl:47 [inlined]",
      " [18] _collect(::Array{Array{Gray{Normed{UInt8,8}},2},1}, ::Base.Generator{Array{Array{Gray{Normed{UInt8,8}},2},1},getfield(Main, Symbol(\"##24#26\"))}, ::Base.EltypeUnknown, ::Base.HasShape{1}) at ./array.jl:632",
      " [19] collect_similar(::Array{Array{Gray{Normed{UInt8,8}},2},1}, ::Base.Generator{Array{Array{Gray{Normed{UInt8,8}},2},1},getfield(Main, Symbol(\"##24#26\"))}) at ./array.jl:561",
      " [20] map(::Function, ::Array{Array{Gray{Normed{UInt8,8}},2},1}) at ./abstractarray.jl:1987",
      " [21] sample() at ./In[8]:10",
      " [22] top-level scope at In[8]:16"
     ]
    }
   ],
   "source": [
    "# Sample output\n",
    "using Images\n",
    "\n",
    "img(x::Vector) = Gray.(reshape(clamp.(x, 0, 1), 28, 28))\n",
    "\n",
    "function sample()\n",
    "  # 20 random digits\n",
    "  before = [imgs[i] for i in rand(1:length(imgs), 20)]\n",
    "  # Before and after images\n",
    "  after = img.(map(x -> cpu(autoencoder._model)(float(vec(x))).data, before))\n",
    "  # Stack them all together\n",
    "  hcat(vcat.(before, after)...)\n",
    "end\n",
    "\n",
    "cd(@__DIR__)\n",
    "\n",
    "sample()"
   ]
  },
  {
   "cell_type": "code",
   "execution_count": null,
   "metadata": {},
   "outputs": [],
   "source": []
  }
 ],
 "metadata": {
  "kernelspec": {
   "display_name": "Julia 1.0.3",
   "language": "julia",
   "name": "julia-1.0"
  },
  "language_info": {
   "file_extension": ".jl",
   "mimetype": "application/julia",
   "name": "julia",
   "version": "1.0.3"
  }
 },
 "nbformat": 4,
 "nbformat_minor": 2
}
