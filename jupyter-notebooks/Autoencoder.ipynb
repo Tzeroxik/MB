{
 "cells": [
  {
   "cell_type": "code",
   "execution_count": 1,
   "metadata": {},
   "outputs": [],
   "source": [
    "include(\"../src/Autoencoder.jl\")\n",
    "using Flux.Data.MNIST\n",
    "using Base.Iterators: partition\n",
    "using Juno: @progress"
   ]
  },
  {
   "cell_type": "code",
   "execution_count": 2,
   "metadata": {},
   "outputs": [],
   "source": [
    "#Data and parameters preparation\n",
    "imgs = MNIST.images();\n",
    "\n",
    "# Partition into batches of size 1000\n",
    "data = [float(hcat(vec.(imgs)...)) for imgs in partition(imgs, 1000)];\n",
    "N = 32; # Size of the encoding"
   ]
  },
  {
   "cell_type": "code",
   "execution_count": 3,
   "metadata": {},
   "outputs": [
    {
     "name": "stderr",
     "output_type": "stream",
     "text": [
      "┌ Info: Epoch 1\n",
      "└ @ Main /home/jrun/.julia/packages/Flux/oN61x/src/optimise/train.jl:93\n"
     ]
    },
    {
     "name": "stdout",
     "output_type": "stream",
     "text": [
      "loss(data[1]) = 0.10394578506264031 (tracked)\n",
      "loss(data[1]) = 0.07545710080408159 (tracked)\n",
      "loss(data[1]) = 0.066228029399971 (tracked)\n"
     ]
    },
    {
     "name": "stderr",
     "output_type": "stream",
     "text": [
      "┌ Info: Epoch 2\n",
      "└ @ Main /home/jrun/.julia/packages/Flux/oN61x/src/optimise/train.jl:93\n"
     ]
    },
    {
     "name": "stdout",
     "output_type": "stream",
     "text": [
      "loss(data[1]) = 0.0578650680477604 (tracked)\n",
      "loss(data[1]) = 0.051756561069762654 (tracked)\n",
      "loss(data[1]) = 0.04546214559182143 (tracked)\n"
     ]
    },
    {
     "name": "stderr",
     "output_type": "stream",
     "text": [
      "┌ Info: Epoch 3\n",
      "└ @ Main /home/jrun/.julia/packages/Flux/oN61x/src/optimise/train.jl:93\n"
     ]
    },
    {
     "name": "stdout",
     "output_type": "stream",
     "text": [
      "loss(data[1]) = 0.0396297980219983 (tracked)\n",
      "loss(data[1]) = 0.03539892706126314 (tracked)\n"
     ]
    },
    {
     "name": "stderr",
     "output_type": "stream",
     "text": [
      "┌ Info: Epoch 4\n",
      "└ @ Main /home/jrun/.julia/packages/Flux/oN61x/src/optimise/train.jl:93\n"
     ]
    },
    {
     "name": "stdout",
     "output_type": "stream",
     "text": [
      "loss(data[1]) = 0.03285174601450861 (tracked)\n",
      "loss(data[1]) = 0.030493184002692412 (tracked)\n",
      "loss(data[1]) = 0.028347504948189085 (tracked)\n"
     ]
    },
    {
     "name": "stderr",
     "output_type": "stream",
     "text": [
      "┌ Info: Epoch 5\n",
      "└ @ Main /home/jrun/.julia/packages/Flux/oN61x/src/optimise/train.jl:93\n"
     ]
    },
    {
     "name": "stdout",
     "output_type": "stream",
     "text": [
      "loss(data[1]) = 0.026720230606774673 (tracked)\n",
      "loss(data[1]) = 0.02555692074086339 (tracked)\n"
     ]
    },
    {
     "name": "stderr",
     "output_type": "stream",
     "text": [
      "┌ Info: Epoch 6\n",
      "└ @ Main /home/jrun/.julia/packages/Flux/oN61x/src/optimise/train.jl:93\n"
     ]
    },
    {
     "name": "stdout",
     "output_type": "stream",
     "text": [
      "loss(data[1]) = 0.024547495543508237 (tracked)\n",
      "loss(data[1]) = 0.02342025179960362 (tracked)\n"
     ]
    },
    {
     "name": "stderr",
     "output_type": "stream",
     "text": [
      "┌ Info: Epoch 7\n",
      "└ @ Main /home/jrun/.julia/packages/Flux/oN61x/src/optimise/train.jl:93\n"
     ]
    },
    {
     "name": "stdout",
     "output_type": "stream",
     "text": [
      "loss(data[1]) = 0.022473716421054613 (tracked)\n",
      "loss(data[1]) = 0.021853518562966898 (tracked)\n",
      "loss(data[1]) = 0.02114449970810501 (tracked)\n"
     ]
    },
    {
     "name": "stderr",
     "output_type": "stream",
     "text": [
      "┌ Info: Epoch 8\n",
      "└ @ Main /home/jrun/.julia/packages/Flux/oN61x/src/optimise/train.jl:93\n"
     ]
    },
    {
     "name": "stdout",
     "output_type": "stream",
     "text": [
      "loss(data[1]) = 0.0204555414912089 (tracked)\n",
      "loss(data[1]) = 0.019856783419760306 (tracked)\n"
     ]
    },
    {
     "name": "stderr",
     "output_type": "stream",
     "text": [
      "┌ Info: Epoch 9\n",
      "└ @ Main /home/jrun/.julia/packages/Flux/oN61x/src/optimise/train.jl:93\n"
     ]
    },
    {
     "name": "stdout",
     "output_type": "stream",
     "text": [
      "loss(data[1]) = 0.019270484273602864 (tracked)\n",
      "loss(data[1]) = 0.018915604935227214 (tracked)\n",
      "loss(data[1]) = 0.018510500968646523 (tracked)\n"
     ]
    },
    {
     "name": "stderr",
     "output_type": "stream",
     "text": [
      "┌ Info: Epoch 10\n",
      "└ @ Main /home/jrun/.julia/packages/Flux/oN61x/src/optimise/train.jl:93\n"
     ]
    },
    {
     "name": "stdout",
     "output_type": "stream",
     "text": [
      "loss(data[1]) = 0.018075897251132383 (tracked)\n",
      "loss(data[1]) = 0.01784353451684753 (tracked)\n"
     ]
    }
   ],
   "source": [
    "autoencoder = AutoEncoder(28^2,N)\n",
    "train(autoencoder,data)"
   ]
  },
  {
   "cell_type": "code",
   "execution_count": 4,
   "metadata": {},
   "outputs": [
    {
     "data": {
      "image/png": "[encoded data removed]",
      "text/plain": [
       "56×560 Array{Gray{Float64},2} with eltype Gray{Float64}:\n",
       " Gray{Float64}(0.0)  Gray{Float64}(0.0)  …  Gray{Float64}(0.0)\n",
       " Gray{Float64}(0.0)  Gray{Float64}(0.0)     Gray{Float64}(0.0)\n",
       " Gray{Float64}(0.0)  Gray{Float64}(0.0)     Gray{Float64}(0.0)\n",
       " Gray{Float64}(0.0)  Gray{Float64}(0.0)     Gray{Float64}(0.0)\n",
       " Gray{Float64}(0.0)  Gray{Float64}(0.0)     Gray{Float64}(0.0)\n",
       " Gray{Float64}(0.0)  Gray{Float64}(0.0)  …  Gray{Float64}(0.0)\n",
       " Gray{Float64}(0.0)  Gray{Float64}(0.0)     Gray{Float64}(0.0)\n",
       " Gray{Float64}(0.0)  Gray{Float64}(0.0)     Gray{Float64}(0.0)\n",
       " Gray{Float64}(0.0)  Gray{Float64}(0.0)     Gray{Float64}(0.0)\n",
       " Gray{Float64}(0.0)  Gray{Float64}(0.0)     Gray{Float64}(0.0)\n",
       " Gray{Float64}(0.0)  Gray{Float64}(0.0)  …  Gray{Float64}(0.0)\n",
       " Gray{Float64}(0.0)  Gray{Float64}(0.0)     Gray{Float64}(0.0)\n",
       " Gray{Float64}(0.0)  Gray{Float64}(0.0)     Gray{Float64}(0.0)\n",
       " ⋮                                       ⋱                    \n",
       " Gray{Float64}(0.0)  Gray{Float64}(0.0)     Gray{Float64}(0.0)\n",
       " Gray{Float64}(0.0)  Gray{Float64}(0.0)  …  Gray{Float64}(0.0)\n",
       " Gray{Float64}(0.0)  Gray{Float64}(0.0)     Gray{Float64}(0.0)\n",
       " Gray{Float64}(0.0)  Gray{Float64}(0.0)     Gray{Float64}(0.0)\n",
       " Gray{Float64}(0.0)  Gray{Float64}(0.0)     Gray{Float64}(0.0)\n",
       " Gray{Float64}(0.0)  Gray{Float64}(0.0)     Gray{Float64}(0.0)\n",
       " Gray{Float64}(0.0)  Gray{Float64}(0.0)  …  Gray{Float64}(0.0)\n",
       " Gray{Float64}(0.0)  Gray{Float64}(0.0)     Gray{Float64}(0.0)\n",
       " Gray{Float64}(0.0)  Gray{Float64}(0.0)     Gray{Float64}(0.0)\n",
       " Gray{Float64}(0.0)  Gray{Float64}(0.0)     Gray{Float64}(0.0)\n",
       " Gray{Float64}(0.0)  Gray{Float64}(0.0)     Gray{Float64}(0.0)\n",
       " Gray{Float64}(0.0)  Gray{Float64}(0.0)  …  Gray{Float64}(0.0)"
      ]
     },
     "execution_count": 4,
     "metadata": {},
     "output_type": "execute_result"
    }
   ],
   "source": [
    "# Sample output\n",
    "using Images\n",
    "\n",
    "img(x::Vector) = Gray.(reshape(clamp.(x, 0, 1), 28, 28))\n",
    "\n",
    "function sample()\n",
    "  # 20 random digits\n",
    "  before = [imgs[i] for i in rand(1:length(imgs), 20)]\n",
    "  # Before and after images\n",
    "  after = img.(map(x -> cpu(autoencoder._model)(float(vec(x))).data, before))\n",
    "  # Stack them all together\n",
    "  hcat(vcat.(before, after)...)\n",
    "end\n",
    "\n",
    "\n",
    "sample()"
   ]
  }
 ],
 "metadata": {
  "kernelspec": {
   "display_name": "Julia 1.0.3",
   "language": "julia",
   "name": "julia-1.0"
  },
  "language_info": {
   "file_extension": ".jl",
   "mimetype": "application/julia",
   "name": "julia",
   "version": "1.0.3"
  }
 },
 "nbformat": 4,
 "nbformat_minor": 2
}
