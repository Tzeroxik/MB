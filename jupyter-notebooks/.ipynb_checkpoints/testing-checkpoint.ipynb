{
 "cells": [
  {
   "cell_type": "code",
   "execution_count": 1,
   "metadata": {},
   "outputs": [
    {
     "data": {
      "text/plain": [
       "4-element Array{String,1}:\n",
       " \"@\"      \n",
       " \"@v#.#\"  \n",
       " \"@stdlib\"\n",
       " \"../src\" "
      ]
     },
     "execution_count": 1,
     "metadata": {},
     "output_type": "execute_result"
    }
   ],
   "source": [
    "#setting up path and loading dependencies\n",
    "push!(LOAD_PATH,\"../src\")"
   ]
  },
  {
   "cell_type": "code",
   "execution_count": 2,
   "metadata": {
    "scrolled": true
   },
   "outputs": [
    {
     "name": "stderr",
     "output_type": "stream",
     "text": [
      "┌ Info: Recompiling stale cache file C:\\Users\\tzeroxik\\.julia\\compiled\\v1.0\\MB.ji for MB [top-level]\n",
      "└ @ Base loading.jl:1190\n"
     ]
    },
    {
     "ename": "UndefVarError",
     "evalue": "UndefVarError: eigvals not defined",
     "output_type": "error",
     "traceback": [
      "UndefVarError: eigvals not defined",
      "",
      "Stacktrace:",
      " [1] (::getfield(MB, Symbol(\"##3#4\")){Array{Float64,2}})(::Array{Float64,2}) at C:\\Users\\tzeroxik\\Documents\\isel\\mb\\mb-project\\MB\\src\\MB.jl:17",
      " [2] |> at .\\operators.jl:813 [inlined]",
      " [3] svd(::Array{Float64,2}) at C:\\Users\\tzeroxik\\Documents\\isel\\mb\\mb-project\\MB\\src\\MB.jl:17",
      " [4] top-level scope at In[2]:5"
     ]
    }
   ],
   "source": [
    "import MB: covariance_matrix, svd\n",
    "x = [1. 2.; \n",
    "     3. 4.]\n",
    "covar = covariance_matrix(x)\n",
    "pca   = svd(covar)"
   ]
  },
  {
   "cell_type": "code",
   "execution_count": null,
   "metadata": {},
   "outputs": [],
   "source": []
  }
 ],
 "metadata": {
  "kernelspec": {
   "display_name": "Julia 1.0.3",
   "language": "julia",
   "name": "julia-1.0"
  },
  "language_info": {
   "file_extension": ".jl",
   "mimetype": "application/julia",
   "name": "julia",
   "version": "1.0.3"
  }
 },
 "nbformat": 4,
 "nbformat_minor": 2
}
